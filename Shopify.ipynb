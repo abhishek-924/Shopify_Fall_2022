{
 "cells": [
  {
   "cell_type": "markdown",
   "metadata": {},
   "source": [
    "# Fall 2022 Data Science Intern Challenge \n",
    "\n",
    "Please complete the following questions, and provide your thought process/work. You can attach your work in a text file, link, etc. on the application page. Please ensure answers are easily visible for reviewers!\n",
    "\n",
    "\n",
    "<b> Question 1: Given some sample data, write a program to answer the following: click here to access the required data set\n",
    "\n",
    "On Shopify, we have exactly 100 sneaker shops, and each of these shops sells only one model of shoe. We want to do some analysis of the average order value (AOV). When we look at orders data over a 30 day window, we naively calculate an AOV of \\$3145.13. Given that we know these shops are selling sneakers, a relatively affordable item, something seems wrong with our analysis. \n",
    "\n",
    "#### A) Think about what could be going wrong with our calculation. Think about a better way to evaluate this data. <br> </b>\n",
    "We know that the Average order value (AOV) calculates the average spent every time a customer places an sneaker order.<br><br>\n",
    "Formula:<br>\n",
    "AOV = sum(order_amount)/ sum(total_items)<br><br>\n",
    "<b>Problem: </b> Using Exploratory Data Analysis and Python libraries such as Pandas, Matplotlib, and Seaborn (which is explained in detail below), I identified the which was an outlier problem.\n",
    "Earlier, AOV was being calculated as the mean of the 'order_amount' column. But It's value \\\\$3145.12) for a 30 day period was very high for a sneaker store. The explained code shows that an outlier with shop_id = 78 was commiting a fraud by charging \\\\$25725 for every pair of sneakers. Hence, the metrics which was selected as mean to calculate AOV was not appropriate as it was being affected by the values of outliers.<br><br>\n",
    "\n",
    "<b>Better way to evaluate data:</b>\n",
    "I presented two ways to evaluate the data after handling outlier. The first was either removing outliers and re-calculating the mean of 'order_amount' column as AOV.  However it wouldn't be an optimized approach.\n",
    "Another approach which I would personally choose is using the <b>median</b> as the AOV or Average Order Value. Since it is the middle value of the sorted values, it is a central value but large and small outliers do not skew the median as much as the mean.\n",
    "\n",
    "\n",
    "\n",
    "#### B) What metric would you report for this dataset? <br>\n",
    "    The metric I would use is the Median for the 'order_amount' column.\n",
    "    \n",
    "#### C) What is its value? <br>\n",
    "The calculated Median value is $284.0\n"
   ]
  },
  {
   "cell_type": "markdown",
   "metadata": {},
   "source": [
    "## Explanation for Question 1"
   ]
  },
  {
   "cell_type": "markdown",
   "metadata": {},
   "source": [
    "### Import Libraries and Load dataset"
   ]
  },
  {
   "cell_type": "code",
   "execution_count": 77,
   "metadata": {
    "scrolled": false
   },
   "outputs": [
    {
     "name": "stdout",
     "output_type": "stream",
     "text": [
      "Shape of Data -> (5000, 7) \n",
      "\n"
     ]
    },
    {
     "data": {
      "text/html": [
       "<div>\n",
       "<style scoped>\n",
       "    .dataframe tbody tr th:only-of-type {\n",
       "        vertical-align: middle;\n",
       "    }\n",
       "\n",
       "    .dataframe tbody tr th {\n",
       "        vertical-align: top;\n",
       "    }\n",
       "\n",
       "    .dataframe thead th {\n",
       "        text-align: right;\n",
       "    }\n",
       "</style>\n",
       "<table border=\"1\" class=\"dataframe\">\n",
       "  <thead>\n",
       "    <tr style=\"text-align: right;\">\n",
       "      <th></th>\n",
       "      <th>order_id</th>\n",
       "      <th>shop_id</th>\n",
       "      <th>user_id</th>\n",
       "      <th>order_amount</th>\n",
       "      <th>total_items</th>\n",
       "      <th>payment_method</th>\n",
       "      <th>created_at</th>\n",
       "    </tr>\n",
       "  </thead>\n",
       "  <tbody>\n",
       "    <tr>\n",
       "      <th>0</th>\n",
       "      <td>1</td>\n",
       "      <td>53</td>\n",
       "      <td>746</td>\n",
       "      <td>224</td>\n",
       "      <td>2</td>\n",
       "      <td>cash</td>\n",
       "      <td>2017-03-13 12:36:56</td>\n",
       "    </tr>\n",
       "    <tr>\n",
       "      <th>1</th>\n",
       "      <td>2</td>\n",
       "      <td>92</td>\n",
       "      <td>925</td>\n",
       "      <td>90</td>\n",
       "      <td>1</td>\n",
       "      <td>cash</td>\n",
       "      <td>2017-03-03 17:38:52</td>\n",
       "    </tr>\n",
       "    <tr>\n",
       "      <th>2</th>\n",
       "      <td>3</td>\n",
       "      <td>44</td>\n",
       "      <td>861</td>\n",
       "      <td>144</td>\n",
       "      <td>1</td>\n",
       "      <td>cash</td>\n",
       "      <td>2017-03-14 4:23:56</td>\n",
       "    </tr>\n",
       "    <tr>\n",
       "      <th>3</th>\n",
       "      <td>4</td>\n",
       "      <td>18</td>\n",
       "      <td>935</td>\n",
       "      <td>156</td>\n",
       "      <td>1</td>\n",
       "      <td>credit_card</td>\n",
       "      <td>2017-03-26 12:43:37</td>\n",
       "    </tr>\n",
       "    <tr>\n",
       "      <th>4</th>\n",
       "      <td>5</td>\n",
       "      <td>18</td>\n",
       "      <td>883</td>\n",
       "      <td>156</td>\n",
       "      <td>1</td>\n",
       "      <td>credit_card</td>\n",
       "      <td>2017-03-01 4:35:11</td>\n",
       "    </tr>\n",
       "  </tbody>\n",
       "</table>\n",
       "</div>"
      ],
      "text/plain": [
       "   order_id  shop_id  user_id  order_amount  total_items payment_method  \\\n",
       "0         1       53      746           224            2           cash   \n",
       "1         2       92      925            90            1           cash   \n",
       "2         3       44      861           144            1           cash   \n",
       "3         4       18      935           156            1    credit_card   \n",
       "4         5       18      883           156            1    credit_card   \n",
       "\n",
       "            created_at  \n",
       "0  2017-03-13 12:36:56  \n",
       "1  2017-03-03 17:38:52  \n",
       "2   2017-03-14 4:23:56  \n",
       "3  2017-03-26 12:43:37  \n",
       "4   2017-03-01 4:35:11  "
      ]
     },
     "execution_count": 77,
     "metadata": {},
     "output_type": "execute_result"
    }
   ],
   "source": [
    "import pandas as pd\n",
    "import matplotlib.pyplot as plt\n",
    "import seaborn as sns\n",
    "\n",
    "\n",
    "df=pd.read_csv(\"Dataset.csv\")\n",
    "print('Shape of Data ->',df.shape,'\\n')\n",
    "df.head()"
   ]
  },
  {
   "cell_type": "markdown",
   "metadata": {},
   "source": [
    "### Exploratory Data Analysis or EDA"
   ]
  },
  {
   "cell_type": "code",
   "execution_count": 78,
   "metadata": {
    "scrolled": false
   },
   "outputs": [
    {
     "name": "stdout",
     "output_type": "stream",
     "text": [
      "<class 'pandas.core.frame.DataFrame'>\n",
      "RangeIndex: 5000 entries, 0 to 4999\n",
      "Data columns (total 7 columns):\n",
      " #   Column          Non-Null Count  Dtype \n",
      "---  ------          --------------  ----- \n",
      " 0   order_id        5000 non-null   int64 \n",
      " 1   shop_id         5000 non-null   int64 \n",
      " 2   user_id         5000 non-null   int64 \n",
      " 3   order_amount    5000 non-null   int64 \n",
      " 4   total_items     5000 non-null   int64 \n",
      " 5   payment_method  5000 non-null   object\n",
      " 6   created_at      5000 non-null   object\n",
      "dtypes: int64(5), object(2)\n",
      "memory usage: 273.6+ KB\n",
      "\n",
      "\n",
      " Checking for duplicates\n",
      "Empty DataFrame\n",
      "Columns: [order_id, shop_id, user_id, order_amount, total_items, payment_method, created_at]\n",
      "Index: []\n"
     ]
    }
   ],
   "source": [
    "# Check for Nulls and Duplicates\n",
    "df.info()\n",
    "print('\\n\\n', 'Checking for duplicates')\n",
    "print(df[df.duplicated()])"
   ]
  },
  {
   "cell_type": "markdown",
   "metadata": {},
   "source": [
    "<b> Observation : </b>We can see that there are no null values and duplicates in the data. Hence, our data looks clean!"
   ]
  },
  {
   "cell_type": "code",
   "execution_count": 79,
   "metadata": {},
   "outputs": [
    {
     "data": {
      "text/plain": [
       "count      5000.000000\n",
       "mean       3145.128000\n",
       "std       41282.539349\n",
       "min          90.000000\n",
       "25%         163.000000\n",
       "50%         284.000000\n",
       "75%         390.000000\n",
       "max      704000.000000\n",
       "Name: order_amount, dtype: float64"
      ]
     },
     "execution_count": 79,
     "metadata": {},
     "output_type": "execute_result"
    }
   ],
   "source": [
    "# Looking Closely at the order_amount column\n",
    "df['order_amount'].describe()"
   ]
  },
  {
   "cell_type": "markdown",
   "metadata": {},
   "source": [
    "### Observation:\n",
    "<ul>\n",
    "<li> We notice that the mean of the 'order_amount' column is \\$3145.13 (which is the calculated AOV) which is very high for a shoe store. Hence we can conclude that some <b>outliers</b> might be affecting it's value.\n",
    "<li> Also, Standard Deviation is also very large with it's value of \\$41282.53. This means that data points are far from mean and therefore for calculating AOV, mean is not a good statistic. \n",
    "<li> Given that AOV is \\$3145.13, we note that 75% of data is below 390 but the max value is $704000.0 which is very large. Hence AOV might be definitely affected by some outliers to give such a large Average Order Value.\n",
    "    </ul>\n"
   ]
  },
  {
   "cell_type": "markdown",
   "metadata": {},
   "source": [
    "## Outlier Detection"
   ]
  },
  {
   "cell_type": "markdown",
   "metadata": {},
   "source": [
    "#### 1. BoxPlot"
   ]
  },
  {
   "cell_type": "code",
   "execution_count": 80,
   "metadata": {
    "scrolled": false
   },
   "outputs": [
    {
     "data": {
      "text/plain": [
       "Text(0, 0.5, 'Order Amount')"
      ]
     },
     "execution_count": 80,
     "metadata": {},
     "output_type": "execute_result"
    },
    {
     "data": {
      "image/png": "[encoded data removed]",
      "text/plain": [
       "<Figure size 432x288 with 1 Axes>"
      ]
     },
     "metadata": {
      "needs_background": "light"
     },
     "output_type": "display_data"
    }
   ],
   "source": [
    "fig1, ax1 = plt.subplots()\n",
    "ax1.set_title('Box Plot')\n",
    "ax1.boxplot(df.order_amount,showfliers=False)\n",
    "ax1.set_ylabel('Order Amount')\n"
   ]
  },
  {
   "cell_type": "markdown",
   "metadata": {},
   "source": [
    "<b>Observation: </b>From boxplot it is visible that the maximum amount is very large as compared to the amount for the 3rd quartile hence there are visible chances of outliers. "
   ]
  },
  {
   "cell_type": "markdown",
   "metadata": {},
   "source": [
    "### 2. Price for each item\n",
    "We check the price for each item to check if there is some descepancy in the amount charged for a particular shoe.\n"
   ]
  },
  {
   "cell_type": "code",
   "execution_count": 90,
   "metadata": {},
   "outputs": [
    {
     "name": "stdout",
     "output_type": "stream",
     "text": [
      "Top 3 prices for each individual pair of sneakers\n",
      "Prices -> [25725.0, 352.0, 201.0] \n",
      "\n",
      "The shop_id of the Outlier (the shop which is charging $25725.0 for a single pair of sneakers!): \n",
      "Shop Id of Outlier->   [78]\n"
     ]
    }
   ],
   "source": [
    "df['price_per_item'] = df['order_amount']/df['total_items']\n",
    "a= list(df['price_per_item'].unique())\n",
    "a= sorted(a,reverse=True)\n",
    "print('Top 3 prices for each individual pair of sneakers')\n",
    "print('Prices ->', a[:3],'\\n')\n",
    "print('The shop_id of the Outlier (the shop which is charging $25725.0 for a single pair of sneakers!): ')\n",
    "print('Shop Id of Outlier->  ',df.loc[df['price_per_item']==25725.0].shop_id.unique())"
   ]
  },
  {
   "cell_type": "markdown",
   "metadata": {},
   "source": [
    "<b>Observation : </b>Yes! We have successfully detected the outlier using Exploratory Data Analysis and Boxplot. <br>\n",
    "The Shop_id =78 is a fraud!"
   ]
  },
  {
   "cell_type": "markdown",
   "metadata": {},
   "source": [
    "## Outlier Handling\n",
    "\n",
    "1. Remove outliers and re-calculate AOV again\n",
    "2. Use Median as a metric\n",
    "\n",
    "<b>My approach : </b>I would use median as the AOV or Average Order Value. Since it is the middle value of the sorted values, it is a central value but large and small outliers do not skew the median as much as the mean."
   ]
  },
  {
   "cell_type": "code",
   "execution_count": 85,
   "metadata": {},
   "outputs": [
    {
     "name": "stdout",
     "output_type": "stream",
     "text": [
      "The median is : $ 284.0\n"
     ]
    }
   ],
   "source": [
    "# Calculating median of order amount\n",
    "print('The median is : $', df.order_amount.median())"
   ]
  },
  {
   "attachments": {},
   "cell_type": "markdown",
   "metadata": {},
   "source": [
    "<br><br><br><b>Question 2: For this question you’ll need to use SQL. Follow this link to access the data set required for the challenge. Please use queries to answer the following questions. Paste your queries along with your final numerical answers below.<br>\n",
    "\n",
    "A) How many orders were shipped by Speedy Express in total?</b><br><br>\n",
    "SELECT COUNT(*) FROM Orders <br>\n",
    "JOIN Shippers ON Shippers.ShipperID = Orders.ShipperID<br>\n",
    "WHERE Shippers.ShipperName = 'Speedy Express';<br><br>\n",
    "<b>Answer:</b> 54\n",
    "\n",
    "\n",
    "\n",
    "<br>\n",
    "\n",
    "\n"
   ]
  },
  {
   "cell_type": "markdown",
   "metadata": {},
   "source": [
    "<b>B) What is the last name of the employee with the most orders?</b><br><br>\n",
    "SELECT Employees.LastName, Count() AS num_orders FROM Orders <br>\n",
    "JOIN Employees ON Orders.EmployeeID = Employees.EmployeeID <br>\n",
    "GROUP BY Employees.LastName ORDER BY num_orders DESC; <br> <br>\n",
    "\n",
    "<b>Answer:</b> Peacock (number of orders are 40)<br><br>\n",
    "<b>C) What product was ordered the most by customers in Germany?</b><br><br>\n",
    "\n",
    "SELECT Products.ProductName, Sum(OrderDetails.Quantity) as most_ordered FROM Orders <br>\n",
    "JOIN OrderDetails ON Orders.OrderID = OrderDetails.OrderID<br>\n",
    "JOIN Customers ON Orders.CustomerID = Customers.CustomerID<br>\n",
    "JOIN Products ON OrderDetails.ProductID = Products.ProductID<br>\n",
    "WHERE Country = 'Germany'<br>\n",
    "GROUP BY Products.ProductName ORDER BY most_ordered DESC;<br><br>\n",
    "<b>Answer:</b> Boston Crab Meat (with 160 orders)\n"
   ]
  },
  {
   "cell_type": "code",
   "execution_count": null,
   "metadata": {},
   "outputs": [],
   "source": []
  }
 ],
 "metadata": {
  "kernelspec": {
   "display_name": "Python 3",
   "language": "python",
   "name": "python3"
  },
  "language_info": {
   "codemirror_mode": {
    "name": "ipython",
    "version": 3
   },
   "file_extension": ".py",
   "mimetype": "text/x-python",
   "name": "python",
   "nbconvert_exporter": "python",
   "pygments_lexer": "ipython3",
   "version": "3.7.4"
  }
 },
 "nbformat": 4,
 "nbformat_minor": 2
}
